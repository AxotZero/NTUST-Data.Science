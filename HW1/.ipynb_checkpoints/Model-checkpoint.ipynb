{
 "cells": [
  {
   "cell_type": "code",
   "execution_count": 34,
   "metadata": {},
   "outputs": [],
   "source": [
    "import os\n",
    "import numpy as np\n",
    "import pandas as pd\n",
    "import torch\n",
    "import torchvision.transforms as tr\n",
    "from torch.utils import data\n",
    "from torch.optim import lr_scheduler"
   ]
  },
  {
   "cell_type": "code",
   "execution_count": 35,
   "metadata": {},
   "outputs": [],
   "source": [
    "import FocalLoss"
   ]
  },
  {
   "cell_type": "code",
   "execution_count": 55,
   "metadata": {},
   "outputs": [],
   "source": [
    "class Rain_Loader(data.Dataset):\n",
    "\n",
    "    def __init__(self, data_path, train):\n",
    "        self.kind = ['No', 'Yes']\n",
    "        self.file = pd.read_csv(data_path)\n",
    "        self.train = train\n",
    "        \n",
    "        if self.train:\n",
    "            self.labels = self.file['Attribute23']\n",
    "            self.file.drop(columns=['Attribute23'], inplace=True)\n",
    "        \n",
    "        self.data = self.file.values\n",
    "    \n",
    "    def __len__(self):\n",
    "        return len(self.data)\n",
    "\n",
    "    def __getitem__(self,index):\n",
    "\n",
    "        data = self.data[index]\n",
    "\n",
    "        if self.train:\n",
    "            label = self.labels[index]\n",
    "        else:\n",
    "            label = 0\n",
    "        return data, label\n",
    "\n",
    "        \n",
    "    "
   ]
  },
  {
   "cell_type": "code",
   "execution_count": 72,
   "metadata": {},
   "outputs": [
    {
     "data": {
      "text/plain": [
       "MyNet(\n",
       "  (classifier): Sequential(\n",
       "    (0): Linear(in_features=22, out_features=11, bias=True)\n",
       "    (1): ReLU()\n",
       "    (2): Linear(in_features=11, out_features=6, bias=True)\n",
       "    (3): ReLU()\n",
       "    (4): Linear(in_features=6, out_features=2, bias=True)\n",
       "  )\n",
       ")"
      ]
     },
     "execution_count": 72,
     "metadata": {},
     "output_type": "execute_result"
    }
   ],
   "source": [
    "import torch.nn as nn\n",
    "class MyNet(nn.Module):\n",
    "    def __init__(self, num_classes=2):\n",
    "        super(MyNet, self).__init__()\n",
    "        self.classifier = nn.Sequential(\n",
    "            nn.Linear(22, 11),\n",
    "            nn.ReLU(),\n",
    "            nn.Linear(11, 6),\n",
    "            nn.ReLU(),\n",
    "            nn.Linear(6, num_classes),\n",
    "        )\n",
    "    def forward(self, x):\n",
    "        x = x.view(1, len(x)*len(x[0]))\n",
    "        x = self.classifier(x)\n",
    "        return x\n",
    "    \n",
    "Net = MyNet(num_classes=2)\n",
    "Net.train()"
   ]
  },
  {
   "cell_type": "code",
   "execution_count": 83,
   "metadata": {},
   "outputs": [],
   "source": [
    "import torch.optim as optim\n",
    "from torch.autograd import Variable\n",
    "\n",
    "train_data = Rain_Loader(data_path = 'train2.csv',train = True)\n",
    "train_dataloader = data.DataLoader(dataset=train_data,batch_size = 1, shuffle=True)\n",
    "\n",
    "test_data = Rain_Loader(data_path = 'test2.csv',train = False)\n",
    "test_dataloader = data.DataLoader(dataset=test_data,batch_size = 1, shuffle=False)\n",
    "\n",
    "model = MyNet(num_classes = 2)\n",
    "model = model.float()\n",
    "model.train()\n",
    "\n",
    "criterion1 = FocalLoss.FocalLoss(gamma=5.5, alpha=0.16, size_average=False)\n",
    "optimizer = optim.Adam(model.parameters(), lr=0.01)\n",
    "# exp_lr_scheduler = lr_scheduler.StepLR(optimizer, step_size=5, gamma=0.1)"
   ]
  },
  {
   "cell_type": "code",
   "execution_count": 84,
   "metadata": {},
   "outputs": [
    {
     "name": "stdout",
     "output_type": "stream",
     "text": [
      "Epoch [ 1  /  15 ], Loss : 0.0037\n",
      "Epoch [ 2  /  15 ], Loss : 0.0034\n",
      "Epoch [ 3  /  15 ], Loss : 0.0038\n",
      "Epoch [ 4  /  15 ], Loss : 0.0034\n",
      "Epoch [ 5  /  15 ], Loss : 0.0033\n",
      "Epoch [ 6  /  15 ], Loss : 0.0033\n",
      "Epoch [ 7  /  15 ], Loss : 0.0033\n",
      "Epoch [ 8  /  15 ], Loss : 0.0033\n",
      "Epoch [ 9  /  15 ], Loss : 0.0032\n",
      "Epoch [ 10  /  15 ], Loss : 0.0033\n",
      "Epoch [ 11  /  15 ], Loss : 0.0032\n",
      "Epoch [ 12  /  15 ], Loss : 0.0032\n",
      "Epoch [ 13  /  15 ], Loss : 0.0032\n",
      "Epoch [ 14  /  15 ]"
     ]
    },
    {
     "ename": "KeyboardInterrupt",
     "evalue": "",
     "output_type": "error",
     "traceback": [
      "\u001b[1;31m---------------------------------------------------------------------------\u001b[0m",
      "\u001b[1;31mKeyboardInterrupt\u001b[0m                         Traceback (most recent call last)",
      "\u001b[1;32m<ipython-input-84-e1a72609194b>\u001b[0m in \u001b[0;36m<module>\u001b[1;34m\u001b[0m\n\u001b[0;32m     22\u001b[0m         \u001b[1;31m# Backpropagation\u001b[0m\u001b[1;33m\u001b[0m\u001b[1;33m\u001b[0m\u001b[1;33m\u001b[0m\u001b[0m\n\u001b[0;32m     23\u001b[0m         \u001b[0moptimizer\u001b[0m\u001b[1;33m.\u001b[0m\u001b[0mzero_grad\u001b[0m\u001b[1;33m(\u001b[0m\u001b[1;33m)\u001b[0m\u001b[1;33m\u001b[0m\u001b[1;33m\u001b[0m\u001b[0m\n\u001b[1;32m---> 24\u001b[1;33m         \u001b[0mloss\u001b[0m\u001b[1;33m.\u001b[0m\u001b[0mbackward\u001b[0m\u001b[1;33m(\u001b[0m\u001b[1;33m)\u001b[0m\u001b[1;33m\u001b[0m\u001b[1;33m\u001b[0m\u001b[0m\n\u001b[0m\u001b[0;32m     25\u001b[0m         \u001b[0moptimizer\u001b[0m\u001b[1;33m.\u001b[0m\u001b[0mstep\u001b[0m\u001b[1;33m(\u001b[0m\u001b[1;33m)\u001b[0m\u001b[1;33m\u001b[0m\u001b[1;33m\u001b[0m\u001b[0m\n\u001b[0;32m     26\u001b[0m         \u001b[0mrun_loss\u001b[0m \u001b[1;33m+=\u001b[0m \u001b[0mloss\u001b[0m\u001b[1;33m.\u001b[0m\u001b[0mitem\u001b[0m\u001b[1;33m(\u001b[0m\u001b[1;33m)\u001b[0m\u001b[1;33m\u001b[0m\u001b[1;33m\u001b[0m\u001b[0m\n",
      "\u001b[1;32mD:\\Program Files (x86)\\Anaconda3\\lib\\site-packages\\torch\\tensor.py\u001b[0m in \u001b[0;36mbackward\u001b[1;34m(self, gradient, retain_graph, create_graph)\u001b[0m\n\u001b[0;32m    164\u001b[0m                 \u001b[0mproducts\u001b[0m\u001b[1;33m.\u001b[0m \u001b[0mDefaults\u001b[0m \u001b[0mto\u001b[0m\u001b[0;31m \u001b[0m\u001b[0;31m`\u001b[0m\u001b[0;31m`\u001b[0m\u001b[1;32mFalse\u001b[0m\u001b[0;31m`\u001b[0m\u001b[0;31m`\u001b[0m\u001b[1;33m.\u001b[0m\u001b[1;33m\u001b[0m\u001b[1;33m\u001b[0m\u001b[0m\n\u001b[0;32m    165\u001b[0m         \"\"\"\n\u001b[1;32m--> 166\u001b[1;33m         \u001b[0mtorch\u001b[0m\u001b[1;33m.\u001b[0m\u001b[0mautograd\u001b[0m\u001b[1;33m.\u001b[0m\u001b[0mbackward\u001b[0m\u001b[1;33m(\u001b[0m\u001b[0mself\u001b[0m\u001b[1;33m,\u001b[0m \u001b[0mgradient\u001b[0m\u001b[1;33m,\u001b[0m \u001b[0mretain_graph\u001b[0m\u001b[1;33m,\u001b[0m \u001b[0mcreate_graph\u001b[0m\u001b[1;33m)\u001b[0m\u001b[1;33m\u001b[0m\u001b[1;33m\u001b[0m\u001b[0m\n\u001b[0m\u001b[0;32m    167\u001b[0m \u001b[1;33m\u001b[0m\u001b[0m\n\u001b[0;32m    168\u001b[0m     \u001b[1;32mdef\u001b[0m \u001b[0mregister_hook\u001b[0m\u001b[1;33m(\u001b[0m\u001b[0mself\u001b[0m\u001b[1;33m,\u001b[0m \u001b[0mhook\u001b[0m\u001b[1;33m)\u001b[0m\u001b[1;33m:\u001b[0m\u001b[1;33m\u001b[0m\u001b[1;33m\u001b[0m\u001b[0m\n",
      "\u001b[1;32mD:\\Program Files (x86)\\Anaconda3\\lib\\site-packages\\torch\\autograd\\__init__.py\u001b[0m in \u001b[0;36mbackward\u001b[1;34m(tensors, grad_tensors, retain_graph, create_graph, grad_variables)\u001b[0m\n\u001b[0;32m     91\u001b[0m         \u001b[0mgrad_tensors\u001b[0m \u001b[1;33m=\u001b[0m \u001b[0mlist\u001b[0m\u001b[1;33m(\u001b[0m\u001b[0mgrad_tensors\u001b[0m\u001b[1;33m)\u001b[0m\u001b[1;33m\u001b[0m\u001b[1;33m\u001b[0m\u001b[0m\n\u001b[0;32m     92\u001b[0m \u001b[1;33m\u001b[0m\u001b[0m\n\u001b[1;32m---> 93\u001b[1;33m     \u001b[0mgrad_tensors\u001b[0m \u001b[1;33m=\u001b[0m \u001b[0m_make_grads\u001b[0m\u001b[1;33m(\u001b[0m\u001b[0mtensors\u001b[0m\u001b[1;33m,\u001b[0m \u001b[0mgrad_tensors\u001b[0m\u001b[1;33m)\u001b[0m\u001b[1;33m\u001b[0m\u001b[1;33m\u001b[0m\u001b[0m\n\u001b[0m\u001b[0;32m     94\u001b[0m     \u001b[1;32mif\u001b[0m \u001b[0mretain_graph\u001b[0m \u001b[1;32mis\u001b[0m \u001b[1;32mNone\u001b[0m\u001b[1;33m:\u001b[0m\u001b[1;33m\u001b[0m\u001b[1;33m\u001b[0m\u001b[0m\n\u001b[0;32m     95\u001b[0m         \u001b[0mretain_graph\u001b[0m \u001b[1;33m=\u001b[0m \u001b[0mcreate_graph\u001b[0m\u001b[1;33m\u001b[0m\u001b[1;33m\u001b[0m\u001b[0m\n",
      "\u001b[1;32mD:\\Program Files (x86)\\Anaconda3\\lib\\site-packages\\torch\\autograd\\__init__.py\u001b[0m in \u001b[0;36m_make_grads\u001b[1;34m(outputs, grads)\u001b[0m\n\u001b[0;32m     33\u001b[0m                 \u001b[1;32mif\u001b[0m \u001b[0mout\u001b[0m\u001b[1;33m.\u001b[0m\u001b[0mnumel\u001b[0m\u001b[1;33m(\u001b[0m\u001b[1;33m)\u001b[0m \u001b[1;33m!=\u001b[0m \u001b[1;36m1\u001b[0m\u001b[1;33m:\u001b[0m\u001b[1;33m\u001b[0m\u001b[1;33m\u001b[0m\u001b[0m\n\u001b[0;32m     34\u001b[0m                     \u001b[1;32mraise\u001b[0m \u001b[0mRuntimeError\u001b[0m\u001b[1;33m(\u001b[0m\u001b[1;34m\"grad can be implicitly created only for scalar outputs\"\u001b[0m\u001b[1;33m)\u001b[0m\u001b[1;33m\u001b[0m\u001b[1;33m\u001b[0m\u001b[0m\n\u001b[1;32m---> 35\u001b[1;33m                 \u001b[0mnew_grads\u001b[0m\u001b[1;33m.\u001b[0m\u001b[0mappend\u001b[0m\u001b[1;33m(\u001b[0m\u001b[0mtorch\u001b[0m\u001b[1;33m.\u001b[0m\u001b[0mones_like\u001b[0m\u001b[1;33m(\u001b[0m\u001b[0mout\u001b[0m\u001b[1;33m)\u001b[0m\u001b[1;33m)\u001b[0m\u001b[1;33m\u001b[0m\u001b[1;33m\u001b[0m\u001b[0m\n\u001b[0m\u001b[0;32m     36\u001b[0m             \u001b[1;32melse\u001b[0m\u001b[1;33m:\u001b[0m\u001b[1;33m\u001b[0m\u001b[1;33m\u001b[0m\u001b[0m\n\u001b[0;32m     37\u001b[0m                 \u001b[0mnew_grads\u001b[0m\u001b[1;33m.\u001b[0m\u001b[0mappend\u001b[0m\u001b[1;33m(\u001b[0m\u001b[1;32mNone\u001b[0m\u001b[1;33m)\u001b[0m\u001b[1;33m\u001b[0m\u001b[1;33m\u001b[0m\u001b[0m\n",
      "\u001b[1;31mKeyboardInterrupt\u001b[0m: "
     ]
    }
   ],
   "source": [
    "iter_time = 0\n",
    "run_loss = 0.0\n",
    "times = 15\n",
    "\n",
    "for epoch in range(times):\n",
    "    print(\"Epoch [\",epoch+1,\" / \" , times , \"]\", end='')\n",
    "    # Start Training\n",
    "\n",
    "    for i,Data in enumerate(train_dataloader,start = 1):\n",
    "\n",
    "        iter_time+=1\n",
    "        # Loading Image and Label\n",
    "        row,labels = Data\n",
    "        row,labels = Variable(row) ,Variable(labels)\n",
    "        # Feeding into model\n",
    "        \n",
    "        preds = model(row.float())\n",
    "        # Get loss\n",
    "        labels = labels.to(dtype=torch.int64)\n",
    "\n",
    "        loss = criterion1(preds, labels)\n",
    "        # Backpropagation\n",
    "        optimizer.zero_grad()\n",
    "        loss.backward()\n",
    "        optimizer.step()\n",
    "        run_loss += loss.item()\n",
    "#     exp_lr_scheduler.step()\n",
    "    print(\", Loss : %.4f\" %((run_loss / len(train_dataloader))))\n",
    "#     print(one, zero)\n",
    "    run_loss = 0\n",
    "print('finish')"
   ]
  },
  {
   "cell_type": "code",
   "execution_count": 85,
   "metadata": {},
   "outputs": [
    {
     "name": "stderr",
     "output_type": "stream",
     "text": [
      "D:\\Program Files (x86)\\Anaconda3\\lib\\site-packages\\ipykernel_launcher.py:11: UserWarning: Implicit dimension choice for softmax has been deprecated. Change the call to include dim=X as an argument.\n",
      "  # This is added back by InteractiveShellApp.init_path()\n"
     ]
    },
    {
     "name": "stdout",
     "output_type": "stream",
     "text": [
      "0 tensor([[0.5727, 0.4273]], grad_fn=<SoftmaxBackward>)\n",
      "50 tensor([[0.5727, 0.4273]], grad_fn=<SoftmaxBackward>)\n",
      "100 tensor([[0.4935, 0.5065]], grad_fn=<SoftmaxBackward>)\n",
      "150 tensor([[0.5727, 0.4273]], grad_fn=<SoftmaxBackward>)\n",
      "200 tensor([[0.5314, 0.4686]], grad_fn=<SoftmaxBackward>)\n",
      "250 tensor([[0.4767, 0.5233]], grad_fn=<SoftmaxBackward>)\n",
      "300 tensor([[0.5727, 0.4273]], grad_fn=<SoftmaxBackward>)\n",
      "350 tensor([[0.5727, 0.4273]], grad_fn=<SoftmaxBackward>)\n",
      "400 tensor([[0.4606, 0.5394]], grad_fn=<SoftmaxBackward>)\n",
      "450 tensor([[0.5727, 0.4273]], grad_fn=<SoftmaxBackward>)\n",
      "500 tensor([[0.4453, 0.5547]], grad_fn=<SoftmaxBackward>)\n",
      "550 tensor([[0.4480, 0.5520]], grad_fn=<SoftmaxBackward>)\n",
      "600 tensor([[0.5455, 0.4545]], grad_fn=<SoftmaxBackward>)\n",
      "650 tensor([[0.5727, 0.4273]], grad_fn=<SoftmaxBackward>)\n",
      "700 tensor([[0.4628, 0.5372]], grad_fn=<SoftmaxBackward>)\n",
      "750 tensor([[0.4602, 0.5398]], grad_fn=<SoftmaxBackward>)\n",
      "800 tensor([[0.4313, 0.5687]], grad_fn=<SoftmaxBackward>)\n"
     ]
    }
   ],
   "source": [
    "ans = pd.DataFrame(columns=['id', 'ans'])\n",
    "for i,Data in enumerate(test_dataloader):\n",
    "    # Loading Image and Label\n",
    "    row,labels = Data\n",
    "    row,labels = Variable(row) ,Variable(labels)\n",
    "    # Feeding into model\n",
    "    preds = model(row.float())\n",
    "    \n",
    "    if(i % 50 == 0):\n",
    "        s = nn.Softmax()\n",
    "        preds = s(preds)\n",
    "        print(i, preds)\n",
    "        \n",
    "    \n",
    "    _, preds = torch.max(preds.data, 1)\n",
    "    \n",
    "    ans.loc[i] = [str(i) + '.0', preds.item()]\n",
    "ans.to_csv('ans4.csv',index=None, quoting=2)"
   ]
  },
  {
   "cell_type": "code",
   "execution_count": 86,
   "metadata": {},
   "outputs": [
    {
     "name": "stdout",
     "output_type": "stream",
     "text": [
      "453\n"
     ]
    }
   ],
   "source": [
    "n = pd.read_csv('ans4.csv')\n",
    "n = len(n[n['ans'] == 1])\n",
    "print(n)"
   ]
  },
  {
   "cell_type": "code",
   "execution_count": 21,
   "metadata": {},
   "outputs": [
    {
     "data": {
      "text/html": [
       "<div>\n",
       "<style scoped>\n",
       "    .dataframe tbody tr th:only-of-type {\n",
       "        vertical-align: middle;\n",
       "    }\n",
       "\n",
       "    .dataframe tbody tr th {\n",
       "        vertical-align: top;\n",
       "    }\n",
       "\n",
       "    .dataframe thead th {\n",
       "        text-align: right;\n",
       "    }\n",
       "</style>\n",
       "<table border=\"1\" class=\"dataframe\">\n",
       "  <thead>\n",
       "    <tr style=\"text-align: right;\">\n",
       "      <th></th>\n",
       "      <th>id</th>\n",
       "      <th>ans</th>\n",
       "    </tr>\n",
       "  </thead>\n",
       "  <tbody>\n",
       "    <tr>\n",
       "      <th>count</th>\n",
       "      <td>824</td>\n",
       "      <td>824</td>\n",
       "    </tr>\n",
       "    <tr>\n",
       "      <th>unique</th>\n",
       "      <td>824</td>\n",
       "      <td>2</td>\n",
       "    </tr>\n",
       "    <tr>\n",
       "      <th>top</th>\n",
       "      <td>210.0</td>\n",
       "      <td>1</td>\n",
       "    </tr>\n",
       "    <tr>\n",
       "      <th>freq</th>\n",
       "      <td>1</td>\n",
       "      <td>450</td>\n",
       "    </tr>\n",
       "  </tbody>\n",
       "</table>\n",
       "</div>"
      ],
      "text/plain": [
       "           id  ans\n",
       "count     824  824\n",
       "unique    824    2\n",
       "top     210.0    1\n",
       "freq        1  450"
      ]
     },
     "execution_count": 21,
     "metadata": {},
     "output_type": "execute_result"
    }
   ],
   "source": [
    "ans.describe()"
   ]
  },
  {
   "cell_type": "code",
   "execution_count": 21,
   "metadata": {},
   "outputs": [],
   "source": [
    "ans1 = pd.read_csv('ans3.csv')\n",
    "ans2 = pd.read_csv('anst.csv')\n"
   ]
  },
  {
   "cell_type": "code",
   "execution_count": 22,
   "metadata": {},
   "outputs": [
    {
     "name": "stdout",
     "output_type": "stream",
     "text": [
      "0.6868932038834952\n"
     ]
    }
   ],
   "source": [
    "size = len(ans1)\n",
    "ans1 = ans1['ans']\n",
    "ans2 = ans2['ans']\n",
    "n = 0\n",
    "\n",
    "for i in range(size):\n",
    "    if ans1[i] == ans2[i]:\n",
    "        n = n + 1\n",
    "print(n/size)"
   ]
  },
  {
   "cell_type": "code",
   "execution_count": 30,
   "metadata": {},
   "outputs": [],
   "source": [
    "from sklearn.tree import DecisionTreeClassifier\n",
    "from sklearn import tree\n",
    "import numpy as np"
   ]
  },
  {
   "cell_type": "code",
   "execution_count": 31,
   "metadata": {},
   "outputs": [],
   "source": [
    "Data = pd.read_csv('train2.csv')\n",
    "Label = Data['Attribute23']\n",
    "Data.drop(columns=['Attribute23'], inplace=True)\n",
    "Data = Data.values"
   ]
  },
  {
   "cell_type": "code",
   "execution_count": 32,
   "metadata": {},
   "outputs": [],
   "source": [
    "from sklearn.model_selection import train_test_split\n",
    "xTrain, xTest, yTrain, yTest = train_test_split(Data, Label, test_size=0.33, random_state=42)"
   ]
  },
  {
   "cell_type": "code",
   "execution_count": 33,
   "metadata": {},
   "outputs": [],
   "source": [
    "clf = DecisionTreeClassifier()\n",
    "clf = clf.fit(Data, Label)"
   ]
  },
  {
   "cell_type": "code",
   "execution_count": 34,
   "metadata": {},
   "outputs": [],
   "source": []
  },
  {
   "cell_type": "code",
   "execution_count": 50,
   "metadata": {},
   "outputs": [],
   "source": [
    "test = pd.read_csv('test2.csv').values\n",
    "ans2 = pd.DataFrame({'id': [str(i)+'.0' for i in range(len(test))], 'ans': [int(i) for i in clf.predict(test)]}, columns=['id', 'ans'])\n"
   ]
  },
  {
   "cell_type": "code",
   "execution_count": 51,
   "metadata": {},
   "outputs": [],
   "source": [
    "ans2.to_csv('ans2.csv', index=0, quoting=2)"
   ]
  },
  {
   "cell_type": "code",
   "execution_count": 116,
   "metadata": {},
   "outputs": [
    {
     "name": "stdout",
     "output_type": "stream",
     "text": [
      "Train on 13677 samples, validate on 3420 samples\n",
      "Epoch 1/20\n",
      "13677/13677 [==============================] - ETA: 3:56 - loss: 0.6868 - acc: 0.656 - ETA: 31s - loss: 0.6773 - acc: 0.757 - ETA: 9s - loss: 0.6664 - acc: 0.7866 - ETA: 4s - loss: 0.6485 - acc: 0.802 - ETA: 2s - loss: 0.6240 - acc: 0.814 - ETA: 2s - loss: 0.6070 - acc: 0.812 - ETA: 1s - loss: 0.5881 - acc: 0.812 - ETA: 1s - loss: 0.5760 - acc: 0.811 - ETA: 1s - loss: 0.5648 - acc: 0.811 - ETA: 0s - loss: 0.5585 - acc: 0.809 - ETA: 0s - loss: 0.5507 - acc: 0.809 - ETA: 0s - loss: 0.5445 - acc: 0.808 - ETA: 0s - loss: 0.5392 - acc: 0.808 - ETA: 0s - loss: 0.5357 - acc: 0.806 - ETA: 0s - loss: 0.5281 - acc: 0.809 - ETA: 0s - loss: 0.5234 - acc: 0.809 - 2s 128us/sample - loss: 0.5219 - acc: 0.8089 - val_loss: 0.4225 - val_acc: 0.8342\n",
      "Epoch 2/20\n",
      "13677/13677 [==============================] - ETA: 2s - loss: 0.4578 - acc: 0.812 - ETA: 1s - loss: 0.4809 - acc: 0.796 - ETA: 1s - loss: 0.4534 - acc: 0.812 - ETA: 0s - loss: 0.4467 - acc: 0.815 - ETA: 0s - loss: 0.4491 - acc: 0.811 - ETA: 0s - loss: 0.4412 - acc: 0.815 - ETA: 0s - loss: 0.4385 - acc: 0.814 - ETA: 0s - loss: 0.4380 - acc: 0.812 - ETA: 0s - loss: 0.4342 - acc: 0.812 - ETA: 0s - loss: 0.4324 - acc: 0.812 - ETA: 0s - loss: 0.4273 - acc: 0.813 - ETA: 0s - loss: 0.4254 - acc: 0.812 - ETA: 0s - loss: 0.4245 - acc: 0.813 - ETA: 0s - loss: 0.4209 - acc: 0.814 - ETA: 0s - loss: 0.4191 - acc: 0.815 - ETA: 0s - loss: 0.4160 - acc: 0.816 - ETA: 0s - loss: 0.4139 - acc: 0.818 - 1s 69us/sample - loss: 0.4138 - acc: 0.8187 - val_loss: 0.3307 - val_acc: 0.8573\n",
      "Epoch 3/20\n",
      "13677/13677 [==============================] - ETA: 0s - loss: 0.2728 - acc: 0.906 - ETA: 0s - loss: 0.3629 - acc: 0.851 - ETA: 0s - loss: 0.3683 - acc: 0.854 - ETA: 0s - loss: 0.3735 - acc: 0.846 - ETA: 0s - loss: 0.3771 - acc: 0.841 - ETA: 0s - loss: 0.3676 - acc: 0.844 - ETA: 0s - loss: 0.3632 - acc: 0.846 - ETA: 0s - loss: 0.3610 - acc: 0.846 - ETA: 0s - loss: 0.3638 - acc: 0.844 - ETA: 0s - loss: 0.3644 - acc: 0.843 - ETA: 0s - loss: 0.3629 - acc: 0.844 - ETA: 0s - loss: 0.3625 - acc: 0.844 - ETA: 0s - loss: 0.3642 - acc: 0.844 - ETA: 0s - loss: 0.3637 - acc: 0.845 - ETA: 0s - loss: 0.3638 - acc: 0.844 - ETA: 0s - loss: 0.3625 - acc: 0.845 - 1s 66us/sample - loss: 0.3635 - acc: 0.8444 - val_loss: 0.3073 - val_acc: 0.8728\n",
      "Epoch 4/20\n",
      "13677/13677 [==============================] - ETA: 1s - loss: 0.4481 - acc: 0.718 - ETA: 0s - loss: 0.3668 - acc: 0.834 - ETA: 0s - loss: 0.3636 - acc: 0.842 - ETA: 0s - loss: 0.3630 - acc: 0.844 - ETA: 0s - loss: 0.3628 - acc: 0.844 - ETA: 0s - loss: 0.3653 - acc: 0.841 - ETA: 0s - loss: 0.3629 - acc: 0.841 - ETA: 0s - loss: 0.3624 - acc: 0.842 - ETA: 0s - loss: 0.3615 - acc: 0.844 - ETA: 0s - loss: 0.3602 - acc: 0.846 - ETA: 0s - loss: 0.3551 - acc: 0.849 - ETA: 0s - loss: 0.3536 - acc: 0.849 - ETA: 0s - loss: 0.3513 - acc: 0.850 - ETA: 0s - loss: 0.3507 - acc: 0.849 - 1s 58us/sample - loss: 0.3499 - acc: 0.8498 - val_loss: 0.2981 - val_acc: 0.8705\n",
      "Epoch 5/20\n",
      "13677/13677 [==============================] - ETA: 1s - loss: 0.2481 - acc: 0.937 - ETA: 0s - loss: 0.3345 - acc: 0.861 - ETA: 0s - loss: 0.3403 - acc: 0.852 - ETA: 0s - loss: 0.3466 - acc: 0.850 - ETA: 0s - loss: 0.3412 - acc: 0.856 - ETA: 0s - loss: 0.3419 - acc: 0.854 - ETA: 0s - loss: 0.3430 - acc: 0.853 - ETA: 0s - loss: 0.3442 - acc: 0.852 - ETA: 0s - loss: 0.3397 - acc: 0.855 - ETA: 0s - loss: 0.3421 - acc: 0.854 - ETA: 0s - loss: 0.3442 - acc: 0.853 - ETA: 0s - loss: 0.3431 - acc: 0.853 - ETA: 0s - loss: 0.3444 - acc: 0.852 - ETA: 0s - loss: 0.3443 - acc: 0.852 - 1s 59us/sample - loss: 0.3453 - acc: 0.8521 - val_loss: 0.2957 - val_acc: 0.8711\n",
      "Epoch 6/20\n",
      "13677/13677 [==============================] - ETA: 2s - loss: 0.3434 - acc: 0.875 - ETA: 0s - loss: 0.3486 - acc: 0.849 - ETA: 0s - loss: 0.3288 - acc: 0.863 - ETA: 0s - loss: 0.3390 - acc: 0.858 - ETA: 0s - loss: 0.3342 - acc: 0.859 - ETA: 0s - loss: 0.3332 - acc: 0.860 - ETA: 0s - loss: 0.3340 - acc: 0.859 - ETA: 0s - loss: 0.3353 - acc: 0.856 - ETA: 0s - loss: 0.3357 - acc: 0.856 - ETA: 0s - loss: 0.3353 - acc: 0.856 - ETA: 0s - loss: 0.3372 - acc: 0.855 - ETA: 0s - loss: 0.3383 - acc: 0.855 - ETA: 0s - loss: 0.3420 - acc: 0.853 - 1s 54us/sample - loss: 0.3419 - acc: 0.8535 - val_loss: 0.2911 - val_acc: 0.8784\n",
      "Epoch 7/20\n",
      "13677/13677 [==============================] - ETA: 1s - loss: 0.2546 - acc: 0.906 - ETA: 0s - loss: 0.3556 - acc: 0.839 - ETA: 0s - loss: 0.3599 - acc: 0.836 - ETA: 0s - loss: 0.3516 - acc: 0.842 - ETA: 0s - loss: 0.3515 - acc: 0.847 - ETA: 0s - loss: 0.3423 - acc: 0.852 - ETA: 0s - loss: 0.3379 - acc: 0.852 - ETA: 0s - loss: 0.3382 - acc: 0.853 - ETA: 0s - loss: 0.3398 - acc: 0.851 - ETA: 0s - loss: 0.3408 - acc: 0.850 - ETA: 0s - loss: 0.3397 - acc: 0.851 - ETA: 0s - loss: 0.3410 - acc: 0.850 - ETA: 0s - loss: 0.3414 - acc: 0.851 - 1s 55us/sample - loss: 0.3410 - acc: 0.8521 - val_loss: 0.2900 - val_acc: 0.8766\n",
      "Epoch 8/20\n",
      "13677/13677 [==============================] - ETA: 0s - loss: 0.2602 - acc: 0.906 - ETA: 0s - loss: 0.3507 - acc: 0.842 - ETA: 0s - loss: 0.3434 - acc: 0.851 - ETA: 0s - loss: 0.3427 - acc: 0.851 - ETA: 0s - loss: 0.3466 - acc: 0.849 - ETA: 0s - loss: 0.3448 - acc: 0.850 - ETA: 0s - loss: 0.3436 - acc: 0.853 - ETA: 0s - loss: 0.3419 - acc: 0.854 - ETA: 0s - loss: 0.3440 - acc: 0.852 - ETA: 0s - loss: 0.3435 - acc: 0.852 - ETA: 0s - loss: 0.3425 - acc: 0.853 - ETA: 0s - loss: 0.3412 - acc: 0.854 - 1s 52us/sample - loss: 0.3402 - acc: 0.8548 - val_loss: 0.2887 - val_acc: 0.8775\n",
      "Epoch 9/20\n",
      "13677/13677 [==============================] - ETA: 1s - loss: 0.4854 - acc: 0.781 - ETA: 0s - loss: 0.3586 - acc: 0.843 - ETA: 0s - loss: 0.3615 - acc: 0.846 - ETA: 0s - loss: 0.3612 - acc: 0.845 - ETA: 0s - loss: 0.3497 - acc: 0.852 - ETA: 0s - loss: 0.3437 - acc: 0.855 - ETA: 0s - loss: 0.3420 - acc: 0.855 - ETA: 0s - loss: 0.3394 - acc: 0.856 - ETA: 0s - loss: 0.3380 - acc: 0.856 - ETA: 0s - loss: 0.3373 - acc: 0.857 - ETA: 0s - loss: 0.3398 - acc: 0.856 - ETA: 0s - loss: 0.3396 - acc: 0.856 - ETA: 0s - loss: 0.3387 - acc: 0.856 - 1s 55us/sample - loss: 0.3395 - acc: 0.8548 - val_loss: 0.2874 - val_acc: 0.8769\n",
      "Epoch 10/20\n",
      "13677/13677 [==============================] - ETA: 1s - loss: 0.3373 - acc: 0.812 - ETA: 0s - loss: 0.3558 - acc: 0.851 - ETA: 0s - loss: 0.3489 - acc: 0.856 - ETA: 0s - loss: 0.3387 - acc: 0.861 - ETA: 0s - loss: 0.3432 - acc: 0.856 - ETA: 0s - loss: 0.3399 - acc: 0.857 - ETA: 0s - loss: 0.3459 - acc: 0.854 - ETA: 0s - loss: 0.3422 - acc: 0.855 - ETA: 0s - loss: 0.3414 - acc: 0.853 - ETA: 0s - loss: 0.3408 - acc: 0.854 - ETA: 0s - loss: 0.3389 - acc: 0.855 - ETA: 0s - loss: 0.3397 - acc: 0.854 - 1s 51us/sample - loss: 0.3388 - acc: 0.8541 - val_loss: 0.2874 - val_acc: 0.8766\n",
      "Epoch 11/20\n",
      "13677/13677 [==============================] - ETA: 0s - loss: 0.3469 - acc: 0.843 - ETA: 0s - loss: 0.3166 - acc: 0.866 - ETA: 0s - loss: 0.3196 - acc: 0.866 - ETA: 0s - loss: 0.3253 - acc: 0.863 - ETA: 0s - loss: 0.3246 - acc: 0.864 - ETA: 0s - loss: 0.3303 - acc: 0.860 - ETA: 0s - loss: 0.3304 - acc: 0.858 - ETA: 0s - loss: 0.3342 - acc: 0.857 - ETA: 0s - loss: 0.3358 - acc: 0.856 - ETA: 0s - loss: 0.3385 - acc: 0.855 - ETA: 0s - loss: 0.3403 - acc: 0.854 - ETA: 0s - loss: 0.3406 - acc: 0.854 - ETA: 0s - loss: 0.3399 - acc: 0.855 - 1s 56us/sample - loss: 0.3382 - acc: 0.8562 - val_loss: 0.2892 - val_acc: 0.8775\n",
      "Epoch 12/20\n",
      "13677/13677 [==============================] - ETA: 1s - loss: 0.3321 - acc: 0.843 - ETA: 0s - loss: 0.3333 - acc: 0.856 - ETA: 0s - loss: 0.3390 - acc: 0.853 - ETA: 0s - loss: 0.3545 - acc: 0.845 - ETA: 0s - loss: 0.3489 - acc: 0.850 - ETA: 0s - loss: 0.3491 - acc: 0.850 - ETA: 0s - loss: 0.3491 - acc: 0.850 - ETA: 0s - loss: 0.3462 - acc: 0.852 - ETA: 0s - loss: 0.3443 - acc: 0.852 - ETA: 0s - loss: 0.3423 - acc: 0.853 - ETA: 0s - loss: 0.3398 - acc: 0.855 - ETA: 0s - loss: 0.3387 - acc: 0.855 - ETA: 0s - loss: 0.3383 - acc: 0.855 - ETA: 0s - loss: 0.3385 - acc: 0.854 - 1s 57us/sample - loss: 0.3382 - acc: 0.8547 - val_loss: 0.2864 - val_acc: 0.8784\n",
      "Epoch 13/20\n",
      "13677/13677 [==============================] - ETA: 1s - loss: 0.3674 - acc: 0.843 - ETA: 0s - loss: 0.3576 - acc: 0.847 - ETA: 0s - loss: 0.3375 - acc: 0.857 - ETA: 0s - loss: 0.3419 - acc: 0.853 - ETA: 0s - loss: 0.3451 - acc: 0.851 - ETA: 0s - loss: 0.3452 - acc: 0.850 - ETA: 0s - loss: 0.3511 - acc: 0.847 - ETA: 0s - loss: 0.3491 - acc: 0.849 - ETA: 0s - loss: 0.3479 - acc: 0.849 - ETA: 0s - loss: 0.3464 - acc: 0.850 - ETA: 0s - loss: 0.3451 - acc: 0.851 - ETA: 0s - loss: 0.3429 - acc: 0.852 - ETA: 0s - loss: 0.3402 - acc: 0.853 - 1s 55us/sample - loss: 0.3380 - acc: 0.8544 - val_loss: 0.2891 - val_acc: 0.8775\n",
      "Epoch 14/20\n",
      "13677/13677 [==============================] - ETA: 1s - loss: 0.1400 - acc: 0.937 - ETA: 0s - loss: 0.3400 - acc: 0.856 - ETA: 0s - loss: 0.3425 - acc: 0.857 - ETA: 0s - loss: 0.3374 - acc: 0.858 - ETA: 0s - loss: 0.3366 - acc: 0.857 - ETA: 0s - loss: 0.3329 - acc: 0.859 - ETA: 0s - loss: 0.3306 - acc: 0.859 - ETA: 0s - loss: 0.3327 - acc: 0.857 - ETA: 0s - loss: 0.3351 - acc: 0.856 - ETA: 0s - loss: 0.3360 - acc: 0.856 - ETA: 0s - loss: 0.3363 - acc: 0.856 - ETA: 0s - loss: 0.3373 - acc: 0.855 - ETA: 0s - loss: 0.3377 - acc: 0.855 - 1s 54us/sample - loss: 0.3378 - acc: 0.8549 - val_loss: 0.2861 - val_acc: 0.8787\n",
      "Epoch 15/20\n",
      "13677/13677 [==============================] - ETA: 2s - loss: 0.4476 - acc: 0.812 - ETA: 0s - loss: 0.3534 - acc: 0.851 - ETA: 0s - loss: 0.3488 - acc: 0.850 - ETA: 0s - loss: 0.3506 - acc: 0.846 - ETA: 0s - loss: 0.3485 - acc: 0.847 - ETA: 0s - loss: 0.3379 - acc: 0.854 - ETA: 0s - loss: 0.3384 - acc: 0.852 - ETA: 0s - loss: 0.3370 - acc: 0.854 - ETA: 0s - loss: 0.3376 - acc: 0.854 - ETA: 0s - loss: 0.3385 - acc: 0.855 - ETA: 0s - loss: 0.3373 - acc: 0.855 - ETA: 0s - loss: 0.3361 - acc: 0.855 - 1s 50us/sample - loss: 0.3376 - acc: 0.8551 - val_loss: 0.2882 - val_acc: 0.8746\n",
      "Epoch 16/20\n",
      "13677/13677 [==============================] - ETA: 1s - loss: 0.2666 - acc: 0.906 - ETA: 0s - loss: 0.3484 - acc: 0.847 - ETA: 0s - loss: 0.3360 - acc: 0.852 - ETA: 0s - loss: 0.3307 - acc: 0.857 - ETA: 0s - loss: 0.3284 - acc: 0.857 - ETA: 0s - loss: 0.3364 - acc: 0.854 - ETA: 0s - loss: 0.3392 - acc: 0.851 - ETA: 0s - loss: 0.3401 - acc: 0.850 - ETA: 0s - loss: 0.3391 - acc: 0.851 - ETA: 0s - loss: 0.3382 - acc: 0.853 - ETA: 0s - loss: 0.3385 - acc: 0.853 - ETA: 0s - loss: 0.3378 - acc: 0.854 - ETA: 0s - loss: 0.3378 - acc: 0.854 - 1s 51us/sample - loss: 0.3376 - acc: 0.8550 - val_loss: 0.2887 - val_acc: 0.8775\n",
      "Epoch 17/20\n",
      "13677/13677 [==============================] - ETA: 1s - loss: 0.5050 - acc: 0.750 - ETA: 0s - loss: 0.3363 - acc: 0.854 - ETA: 0s - loss: 0.3393 - acc: 0.852 - ETA: 0s - loss: 0.3349 - acc: 0.857 - ETA: 0s - loss: 0.3339 - acc: 0.855 - ETA: 0s - loss: 0.3436 - acc: 0.851 - ETA: 0s - loss: 0.3403 - acc: 0.853 - ETA: 0s - loss: 0.3363 - acc: 0.854 - ETA: 0s - loss: 0.3363 - acc: 0.855 - ETA: 0s - loss: 0.3379 - acc: 0.854 - ETA: 0s - loss: 0.3361 - acc: 0.855 - ETA: 0s - loss: 0.3375 - acc: 0.854 - ETA: 0s - loss: 0.3367 - acc: 0.855 - 1s 53us/sample - loss: 0.3374 - acc: 0.8551 - val_loss: 0.2866 - val_acc: 0.8781\n",
      "Epoch 18/20\n",
      "13677/13677 [==============================] - ETA: 1s - loss: 0.3090 - acc: 0.937 - ETA: 0s - loss: 0.3326 - acc: 0.851 - ETA: 0s - loss: 0.3438 - acc: 0.849 - ETA: 0s - loss: 0.3450 - acc: 0.850 - ETA: 0s - loss: 0.3418 - acc: 0.851 - ETA: 0s - loss: 0.3404 - acc: 0.852 - ETA: 0s - loss: 0.3375 - acc: 0.855 - ETA: 0s - loss: 0.3350 - acc: 0.858 - ETA: 0s - loss: 0.3364 - acc: 0.856 - ETA: 0s - loss: 0.3363 - acc: 0.856 - ETA: 0s - loss: 0.3380 - acc: 0.855 - ETA: 0s - loss: 0.3382 - acc: 0.855 - ETA: 0s - loss: 0.3382 - acc: 0.855 - 1s 54us/sample - loss: 0.3365 - acc: 0.8572 - val_loss: 0.2863 - val_acc: 0.8789\n",
      "Epoch 19/20\n",
      "13677/13677 [==============================] - ETA: 0s - loss: 0.7430 - acc: 0.718 - ETA: 0s - loss: 0.3507 - acc: 0.852 - ETA: 0s - loss: 0.3526 - acc: 0.846 - ETA: 0s - loss: 0.3409 - acc: 0.851 - ETA: 0s - loss: 0.3329 - acc: 0.857 - ETA: 0s - loss: 0.3306 - acc: 0.858 - ETA: 0s - loss: 0.3338 - acc: 0.858 - ETA: 0s - loss: 0.3365 - acc: 0.855 - ETA: 0s - loss: 0.3338 - acc: 0.856 - ETA: 0s - loss: 0.3351 - acc: 0.857 - ETA: 0s - loss: 0.3360 - acc: 0.857 - ETA: 0s - loss: 0.3353 - acc: 0.857 - ETA: 0s - loss: 0.3357 - acc: 0.858 - ETA: 0s - loss: 0.3371 - acc: 0.856 - ETA: 0s - loss: 0.3378 - acc: 0.855 - 1s 63us/sample - loss: 0.3368 - acc: 0.8561 - val_loss: 0.2871 - val_acc: 0.8778\n",
      "Epoch 20/20\n",
      "13677/13677 [==============================] - ETA: 1s - loss: 0.2853 - acc: 0.843 - ETA: 0s - loss: 0.3291 - acc: 0.861 - ETA: 0s - loss: 0.3247 - acc: 0.865 - ETA: 0s - loss: 0.3303 - acc: 0.863 - ETA: 0s - loss: 0.3270 - acc: 0.865 - ETA: 0s - loss: 0.3315 - acc: 0.860 - ETA: 0s - loss: 0.3312 - acc: 0.860 - ETA: 0s - loss: 0.3349 - acc: 0.856 - ETA: 0s - loss: 0.3348 - acc: 0.856 - ETA: 0s - loss: 0.3381 - acc: 0.854 - ETA: 0s - loss: 0.3402 - acc: 0.853 - ETA: 0s - loss: 0.3375 - acc: 0.854 - ETA: 0s - loss: 0.3368 - acc: 0.854 - 1s 55us/sample - loss: 0.3375 - acc: 0.8544 - val_loss: 0.2858 - val_acc: 0.8775\n"
     ]
    },
    {
     "data": {
      "text/plain": [
       "<tensorflow.python.keras.callbacks.History at 0x25dfcf7b898>"
      ]
     },
     "execution_count": 116,
     "metadata": {},
     "output_type": "execute_result"
    }
   ],
   "source": [
    "import tensorflow as tf\n",
    "from tensorflow.keras.datasets import cifar10\n",
    "from tensorflow.keras.preprocessing.image import ImageDataGenerator\n",
    "from tensorflow.keras.models import Sequential\n",
    "from tensorflow.keras.layers import Dense, Dropout, Activation, Flatten\n",
    "import numpy as np\n",
    "import pandas as pd\n",
    "\n",
    "N = 8\n",
    "\n",
    "Data = pd.read_csv('train2.csv')\n",
    "# one = Data[Data['Atrribute23'] == 1].values\n",
    "# zero = np.random.shuffle(Data[Data['Atrribute22'] == 0].values)[0:len(one)]\n",
    "# one.append(zero)\n",
    "# Data = np.delete(one, [len(one) - 1 , len(one-2)])\n",
    "\n",
    "Labels = Data['Attribute23'].values\n",
    "Data.drop(columns=['Attribute23'], inplace=True)\n",
    "Data = Data.values\n",
    "\n",
    "model = Sequential()\n",
    "\n",
    "model.add(Flatten())  # this converts our 3D feature maps to 1D feature vectors\n",
    "model.add(Dense(N))\n",
    "model.add(Activation('relu'))\n",
    "\n",
    "model.add(Dense(N))\n",
    "model.add(Activation('relu'))\n",
    "\n",
    "model.add(Dense(1))\n",
    "model.add(Activation('sigmoid'))\n",
    "\n",
    "model.compile(optimizer='adam',\n",
    "              loss='binary_crossentropy',\n",
    "              metrics=['accuracy'])\n",
    "\n",
    "model.fit(Data, Labels, batch_size=32, epochs=20, validation_split=0.2)"
   ]
  },
  {
   "cell_type": "code",
   "execution_count": 122,
   "metadata": {},
   "outputs": [],
   "source": [
    "# new_model.predict(imgArray)\n",
    "n = 0\n",
    "# start = 60\n",
    "TestData = pd.read_csv('test2.csv')\n",
    "# TestData = TestData[TestData['Attribute23'] == 1]\n",
    "# TestData.drop(columns=['Attribute23'], inplace=True)\n",
    "# validate = TestData['Attribute22'].values\n",
    "TestData = TestData.values\n",
    "\n",
    "\n",
    "ans = pd.DataFrame(columns=['id', 'ans'])\n",
    "for i in range(len(TestData)//N):\n",
    "    for pred in model.predict(TestData[i*N: i*N+N]):\n",
    "        a = 1 if pred[0] >= 0.5 else 0\n",
    "        ans.loc[len(ans)] = [str(len(ans)) + '.0', a]\n"
   ]
  },
  {
   "cell_type": "code",
   "execution_count": 125,
   "metadata": {},
   "outputs": [],
   "source": [
    "ans.to_csv('anstf.csv', index=None, quoting=2)"
   ]
  },
  {
   "cell_type": "code",
   "execution_count": null,
   "metadata": {},
   "outputs": [],
   "source": []
  }
 ],
 "metadata": {
  "kernelspec": {
   "display_name": "Python 3",
   "language": "python",
   "name": "python3"
  },
  "language_info": {
   "codemirror_mode": {
    "name": "ipython",
    "version": 3
   },
   "file_extension": ".py",
   "mimetype": "text/x-python",
   "name": "python",
   "nbconvert_exporter": "python",
   "pygments_lexer": "ipython3",
   "version": "3.7.3"
  }
 },
 "nbformat": 4,
 "nbformat_minor": 4
}
