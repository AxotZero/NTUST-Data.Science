{
 "cells": [
  {
   "cell_type": "code",
   "execution_count": 34,
   "metadata": {},
   "outputs": [],
   "source": [
    "import os\n",
    "import numpy as np\n",
    "import pandas as pd\n",
    "import torch\n",
    "import torchvision.transforms as tr\n",
    "from torch.utils import data\n",
    "from torch.optim import lr_scheduler\n",
    "import FocalLoss\n",
    "import torch.optim as optim\n",
    "from torch.autograd import Variable\n",
    "import torch.nn as nn"
   ]
  },
  {
   "cell_type": "code",
   "execution_count": 55,
   "metadata": {},
   "outputs": [],
   "source": [
    "class Rain_Loader(data.Dataset):\n",
    "\n",
    "    def __init__(self, data_path, train):\n",
    "        self.kind = ['No', 'Yes']\n",
    "        self.file = pd.read_csv(data_path)\n",
    "        self.train = train\n",
    "        \n",
    "        if self.train:\n",
    "            self.labels = self.file['Attribute23']\n",
    "            self.file.drop(columns=['Attribute23'], inplace=True)\n",
    "        \n",
    "        self.data = self.file.values\n",
    "    \n",
    "    def __len__(self):\n",
    "        return len(self.data)\n",
    "\n",
    "    def __getitem__(self,index):\n",
    "\n",
    "        data = self.data[index]\n",
    "\n",
    "        if self.train:\n",
    "            label = self.labels[index]\n",
    "        else:\n",
    "            label = 0\n",
    "        return data, label    "
   ]
  },
  {
   "cell_type": "code",
   "execution_count": 72,
   "metadata": {},
   "outputs": [
    {
     "data": {
      "text/plain": [
       "MyNet(\n",
       "  (classifier): Sequential(\n",
       "    (0): Linear(in_features=22, out_features=11, bias=True)\n",
       "    (1): ReLU()\n",
       "    (2): Linear(in_features=11, out_features=6, bias=True)\n",
       "    (3): ReLU()\n",
       "    (4): Linear(in_features=6, out_features=2, bias=True)\n",
       "  )\n",
       ")"
      ]
     },
     "execution_count": 72,
     "metadata": {},
     "output_type": "execute_result"
    }
   ],
   "source": [
    "class MyNet(nn.Module):\n",
    "    def __init__(self, num_classes=2):\n",
    "        super(MyNet, self).__init__()\n",
    "        self.classifier = nn.Sequential(\n",
    "            nn.Linear(22, 11),\n",
    "            nn.ReLU(),\n",
    "            nn.Linear(11, 6),\n",
    "            nn.ReLU(),\n",
    "            nn.Linear(6, num_classes),\n",
    "        )\n",
    "    def forward(self, x):\n",
    "        x = x.view(1, len(x)*len(x[0]))\n",
    "        x = self.classifier(x)\n",
    "        return x\n",
    "    \n",
    "Net = MyNet(num_classes=2)\n",
    "Net.train()"
   ]
  },
  {
   "cell_type": "code",
   "execution_count": 83,
   "metadata": {},
   "outputs": [],
   "source": [
    "# My dataLoader\n",
    "train_data = Rain_Loader(data_path = 'train2.csv',train = True)\n",
    "train_dataloader = data.DataLoader(dataset=train_data,batch_size = 1, shuffle=True)\n",
    "\n",
    "test_data = Rain_Loader(data_path = 'test2.csv',train = False)\n",
    "test_dataloader = data.DataLoader(dataset=test_data,batch_size = 1, shuffle=False)\n",
    "\n",
    "# My Model\n",
    "model = MyNet(num_classes = 2)\n",
    "model = model.float()\n",
    "model.train()\n",
    "\n",
    "# Loss function\n",
    "criterion1 = FocalLoss.FocalLoss(gamma=5.5, alpha=0.16, size_average=False)\n",
    "# optimizer\n",
    "optimizer = optim.Adam(model.parameters(), lr=0.01)\n",
    "\n",
    "# learning rate schedular\n",
    "exp_lr_scheduler = lr_scheduler.StepLR(optimizer, step_size=5, gamma=0.1)"
   ]
  },
  {
   "cell_type": "code",
   "execution_count": 84,
   "metadata": {},
   "outputs": [
    {
     "name": "stdout",
     "output_type": "stream",
     "text": [
      "Epoch [ 1  /  15 ], Loss : 0.0037\n",
      "Epoch [ 2  /  15 ], Loss : 0.0034\n",
      "Epoch [ 3  /  15 ], Loss : 0.0038\n",
      "Epoch [ 4  /  15 ], Loss : 0.0034\n",
      "Epoch [ 5  /  15 ], Loss : 0.0033\n",
      "Epoch [ 6  /  15 ], Loss : 0.0033\n",
      "Epoch [ 7  /  15 ], Loss : 0.0033\n",
      "Epoch [ 8  /  15 ], Loss : 0.0033\n",
      "Epoch [ 9  /  15 ], Loss : 0.0032\n",
      "Epoch [ 10  /  15 ], Loss : 0.0033\n",
      "Epoch [ 11  /  15 ], Loss : 0.0032\n",
      "Epoch [ 12  /  15 ], Loss : 0.0032\n",
      "Epoch [ 13  /  15 ], Loss : 0.0032\n",
      "Epoch [ 14  /  15 ]"
     ]
    },
    {
     "ename": "KeyboardInterrupt",
     "evalue": "",
     "output_type": "error",
     "traceback": [
      "\u001b[1;31m---------------------------------------------------------------------------\u001b[0m",
      "\u001b[1;31mKeyboardInterrupt\u001b[0m                         Traceback (most recent call last)",
      "\u001b[1;32m<ipython-input-84-e1a72609194b>\u001b[0m in \u001b[0;36m<module>\u001b[1;34m\u001b[0m\n\u001b[0;32m     22\u001b[0m         \u001b[1;31m# Backpropagation\u001b[0m\u001b[1;33m\u001b[0m\u001b[1;33m\u001b[0m\u001b[1;33m\u001b[0m\u001b[0m\n\u001b[0;32m     23\u001b[0m         \u001b[0moptimizer\u001b[0m\u001b[1;33m.\u001b[0m\u001b[0mzero_grad\u001b[0m\u001b[1;33m(\u001b[0m\u001b[1;33m)\u001b[0m\u001b[1;33m\u001b[0m\u001b[1;33m\u001b[0m\u001b[0m\n\u001b[1;32m---> 24\u001b[1;33m         \u001b[0mloss\u001b[0m\u001b[1;33m.\u001b[0m\u001b[0mbackward\u001b[0m\u001b[1;33m(\u001b[0m\u001b[1;33m)\u001b[0m\u001b[1;33m\u001b[0m\u001b[1;33m\u001b[0m\u001b[0m\n\u001b[0m\u001b[0;32m     25\u001b[0m         \u001b[0moptimizer\u001b[0m\u001b[1;33m.\u001b[0m\u001b[0mstep\u001b[0m\u001b[1;33m(\u001b[0m\u001b[1;33m)\u001b[0m\u001b[1;33m\u001b[0m\u001b[1;33m\u001b[0m\u001b[0m\n\u001b[0;32m     26\u001b[0m         \u001b[0mrun_loss\u001b[0m \u001b[1;33m+=\u001b[0m \u001b[0mloss\u001b[0m\u001b[1;33m.\u001b[0m\u001b[0mitem\u001b[0m\u001b[1;33m(\u001b[0m\u001b[1;33m)\u001b[0m\u001b[1;33m\u001b[0m\u001b[1;33m\u001b[0m\u001b[0m\n",
      "\u001b[1;32mD:\\Program Files (x86)\\Anaconda3\\lib\\site-packages\\torch\\tensor.py\u001b[0m in \u001b[0;36mbackward\u001b[1;34m(self, gradient, retain_graph, create_graph)\u001b[0m\n\u001b[0;32m    164\u001b[0m                 \u001b[0mproducts\u001b[0m\u001b[1;33m.\u001b[0m \u001b[0mDefaults\u001b[0m \u001b[0mto\u001b[0m\u001b[0;31m \u001b[0m\u001b[0;31m`\u001b[0m\u001b[0;31m`\u001b[0m\u001b[1;32mFalse\u001b[0m\u001b[0;31m`\u001b[0m\u001b[0;31m`\u001b[0m\u001b[1;33m.\u001b[0m\u001b[1;33m\u001b[0m\u001b[1;33m\u001b[0m\u001b[0m\n\u001b[0;32m    165\u001b[0m         \"\"\"\n\u001b[1;32m--> 166\u001b[1;33m         \u001b[0mtorch\u001b[0m\u001b[1;33m.\u001b[0m\u001b[0mautograd\u001b[0m\u001b[1;33m.\u001b[0m\u001b[0mbackward\u001b[0m\u001b[1;33m(\u001b[0m\u001b[0mself\u001b[0m\u001b[1;33m,\u001b[0m \u001b[0mgradient\u001b[0m\u001b[1;33m,\u001b[0m \u001b[0mretain_graph\u001b[0m\u001b[1;33m,\u001b[0m \u001b[0mcreate_graph\u001b[0m\u001b[1;33m)\u001b[0m\u001b[1;33m\u001b[0m\u001b[1;33m\u001b[0m\u001b[0m\n\u001b[0m\u001b[0;32m    167\u001b[0m \u001b[1;33m\u001b[0m\u001b[0m\n\u001b[0;32m    168\u001b[0m     \u001b[1;32mdef\u001b[0m \u001b[0mregister_hook\u001b[0m\u001b[1;33m(\u001b[0m\u001b[0mself\u001b[0m\u001b[1;33m,\u001b[0m \u001b[0mhook\u001b[0m\u001b[1;33m)\u001b[0m\u001b[1;33m:\u001b[0m\u001b[1;33m\u001b[0m\u001b[1;33m\u001b[0m\u001b[0m\n",
      "\u001b[1;32mD:\\Program Files (x86)\\Anaconda3\\lib\\site-packages\\torch\\autograd\\__init__.py\u001b[0m in \u001b[0;36mbackward\u001b[1;34m(tensors, grad_tensors, retain_graph, create_graph, grad_variables)\u001b[0m\n\u001b[0;32m     91\u001b[0m         \u001b[0mgrad_tensors\u001b[0m \u001b[1;33m=\u001b[0m \u001b[0mlist\u001b[0m\u001b[1;33m(\u001b[0m\u001b[0mgrad_tensors\u001b[0m\u001b[1;33m)\u001b[0m\u001b[1;33m\u001b[0m\u001b[1;33m\u001b[0m\u001b[0m\n\u001b[0;32m     92\u001b[0m \u001b[1;33m\u001b[0m\u001b[0m\n\u001b[1;32m---> 93\u001b[1;33m     \u001b[0mgrad_tensors\u001b[0m \u001b[1;33m=\u001b[0m \u001b[0m_make_grads\u001b[0m\u001b[1;33m(\u001b[0m\u001b[0mtensors\u001b[0m\u001b[1;33m,\u001b[0m \u001b[0mgrad_tensors\u001b[0m\u001b[1;33m)\u001b[0m\u001b[1;33m\u001b[0m\u001b[1;33m\u001b[0m\u001b[0m\n\u001b[0m\u001b[0;32m     94\u001b[0m     \u001b[1;32mif\u001b[0m \u001b[0mretain_graph\u001b[0m \u001b[1;32mis\u001b[0m \u001b[1;32mNone\u001b[0m\u001b[1;33m:\u001b[0m\u001b[1;33m\u001b[0m\u001b[1;33m\u001b[0m\u001b[0m\n\u001b[0;32m     95\u001b[0m         \u001b[0mretain_graph\u001b[0m \u001b[1;33m=\u001b[0m \u001b[0mcreate_graph\u001b[0m\u001b[1;33m\u001b[0m\u001b[1;33m\u001b[0m\u001b[0m\n",
      "\u001b[1;32mD:\\Program Files (x86)\\Anaconda3\\lib\\site-packages\\torch\\autograd\\__init__.py\u001b[0m in \u001b[0;36m_make_grads\u001b[1;34m(outputs, grads)\u001b[0m\n\u001b[0;32m     33\u001b[0m                 \u001b[1;32mif\u001b[0m \u001b[0mout\u001b[0m\u001b[1;33m.\u001b[0m\u001b[0mnumel\u001b[0m\u001b[1;33m(\u001b[0m\u001b[1;33m)\u001b[0m \u001b[1;33m!=\u001b[0m \u001b[1;36m1\u001b[0m\u001b[1;33m:\u001b[0m\u001b[1;33m\u001b[0m\u001b[1;33m\u001b[0m\u001b[0m\n\u001b[0;32m     34\u001b[0m                     \u001b[1;32mraise\u001b[0m \u001b[0mRuntimeError\u001b[0m\u001b[1;33m(\u001b[0m\u001b[1;34m\"grad can be implicitly created only for scalar outputs\"\u001b[0m\u001b[1;33m)\u001b[0m\u001b[1;33m\u001b[0m\u001b[1;33m\u001b[0m\u001b[0m\n\u001b[1;32m---> 35\u001b[1;33m                 \u001b[0mnew_grads\u001b[0m\u001b[1;33m.\u001b[0m\u001b[0mappend\u001b[0m\u001b[1;33m(\u001b[0m\u001b[0mtorch\u001b[0m\u001b[1;33m.\u001b[0m\u001b[0mones_like\u001b[0m\u001b[1;33m(\u001b[0m\u001b[0mout\u001b[0m\u001b[1;33m)\u001b[0m\u001b[1;33m)\u001b[0m\u001b[1;33m\u001b[0m\u001b[1;33m\u001b[0m\u001b[0m\n\u001b[0m\u001b[0;32m     36\u001b[0m             \u001b[1;32melse\u001b[0m\u001b[1;33m:\u001b[0m\u001b[1;33m\u001b[0m\u001b[1;33m\u001b[0m\u001b[0m\n\u001b[0;32m     37\u001b[0m                 \u001b[0mnew_grads\u001b[0m\u001b[1;33m.\u001b[0m\u001b[0mappend\u001b[0m\u001b[1;33m(\u001b[0m\u001b[1;32mNone\u001b[0m\u001b[1;33m)\u001b[0m\u001b[1;33m\u001b[0m\u001b[1;33m\u001b[0m\u001b[0m\n",
      "\u001b[1;31mKeyboardInterrupt\u001b[0m: "
     ]
    }
   ],
   "source": [
    "iter_time = 0\n",
    "run_loss = 0.0\n",
    "times = 15\n",
    "\n",
    "for epoch in range(times):\n",
    "    print(\"Epoch [\",epoch+1,\" / \" , times , \"]\", end='')\n",
    "    # Start Training\n",
    "\n",
    "    for i,Data in enumerate(train_dataloader,start = 1):\n",
    "\n",
    "        iter_time+=1\n",
    "        # Load Data\n",
    "        row,labels = Data\n",
    "        row,labels = Variable(row) ,Variable(labels)\n",
    "        \n",
    "        # Feeding into model\n",
    "        preds = model(row.float())\n",
    "        # Get loss\n",
    "        labels = labels.to(dtype=torch.int64)\n",
    "        loss = criterion1(preds, labels)\n",
    "        \n",
    "        # Backpropagation\n",
    "        optimizer.zero_grad()\n",
    "        loss.backward()\n",
    "        optimizer.step()\n",
    "        run_loss += loss.item()\n",
    "        \n",
    "    # schedule my learning rate\n",
    "    exp_lr_scheduler.step()\n",
    "    print(\", Loss : %.4f\" %((run_loss / len(train_dataloader))))\n",
    "    run_loss = 0\n",
    "print('finish')"
   ]
  },
  {
   "cell_type": "code",
   "execution_count": 85,
   "metadata": {},
   "outputs": [
    {
     "name": "stderr",
     "output_type": "stream",
     "text": [
      "D:\\Program Files (x86)\\Anaconda3\\lib\\site-packages\\ipykernel_launcher.py:11: UserWarning: Implicit dimension choice for softmax has been deprecated. Change the call to include dim=X as an argument.\n",
      "  # This is added back by InteractiveShellApp.init_path()\n"
     ]
    },
    {
     "name": "stdout",
     "output_type": "stream",
     "text": [
      "0 tensor([[0.5727, 0.4273]], grad_fn=<SoftmaxBackward>)\n",
      "50 tensor([[0.5727, 0.4273]], grad_fn=<SoftmaxBackward>)\n",
      "100 tensor([[0.4935, 0.5065]], grad_fn=<SoftmaxBackward>)\n",
      "150 tensor([[0.5727, 0.4273]], grad_fn=<SoftmaxBackward>)\n",
      "200 tensor([[0.5314, 0.4686]], grad_fn=<SoftmaxBackward>)\n",
      "250 tensor([[0.4767, 0.5233]], grad_fn=<SoftmaxBackward>)\n",
      "300 tensor([[0.5727, 0.4273]], grad_fn=<SoftmaxBackward>)\n",
      "350 tensor([[0.5727, 0.4273]], grad_fn=<SoftmaxBackward>)\n",
      "400 tensor([[0.4606, 0.5394]], grad_fn=<SoftmaxBackward>)\n",
      "450 tensor([[0.5727, 0.4273]], grad_fn=<SoftmaxBackward>)\n",
      "500 tensor([[0.4453, 0.5547]], grad_fn=<SoftmaxBackward>)\n",
      "550 tensor([[0.4480, 0.5520]], grad_fn=<SoftmaxBackward>)\n",
      "600 tensor([[0.5455, 0.4545]], grad_fn=<SoftmaxBackward>)\n",
      "650 tensor([[0.5727, 0.4273]], grad_fn=<SoftmaxBackward>)\n",
      "700 tensor([[0.4628, 0.5372]], grad_fn=<SoftmaxBackward>)\n",
      "750 tensor([[0.4602, 0.5398]], grad_fn=<SoftmaxBackward>)\n",
      "800 tensor([[0.4313, 0.5687]], grad_fn=<SoftmaxBackward>)\n"
     ]
    }
   ],
   "source": [
    "ans = pd.DataFrame(columns=['id', 'ans'])\n",
    "for i,Data in enumerate(test_dataloader):\n",
    "    \n",
    "    row,labels = Data\n",
    "    row,labels = Variable(row) ,Variable(labels)\n",
    "    \n",
    "    preds = model(row.float())\n",
    "    \n",
    "    if(i % 50 == 0):\n",
    "        s = nn.Softmax()\n",
    "        preds = s(preds)\n",
    "        print(i, preds)\n",
    "        \n",
    "    _, preds = torch.max(preds.data, 1)\n",
    "    \n",
    "    ans.loc[i] = [str(i) + '.0', preds.item()]\n",
    "ans.to_csv('ans.csv',index=None, quoting=2)"
   ]
  },
  {
   "cell_type": "code",
   "execution_count": 21,
   "metadata": {},
   "outputs": [
    {
     "data": {
      "text/html": [
       "<div>\n",
       "<style scoped>\n",
       "    .dataframe tbody tr th:only-of-type {\n",
       "        vertical-align: middle;\n",
       "    }\n",
       "\n",
       "    .dataframe tbody tr th {\n",
       "        vertical-align: top;\n",
       "    }\n",
       "\n",
       "    .dataframe thead th {\n",
       "        text-align: right;\n",
       "    }\n",
       "</style>\n",
       "<table border=\"1\" class=\"dataframe\">\n",
       "  <thead>\n",
       "    <tr style=\"text-align: right;\">\n",
       "      <th></th>\n",
       "      <th>id</th>\n",
       "      <th>ans</th>\n",
       "    </tr>\n",
       "  </thead>\n",
       "  <tbody>\n",
       "    <tr>\n",
       "      <th>count</th>\n",
       "      <td>824</td>\n",
       "      <td>824</td>\n",
       "    </tr>\n",
       "    <tr>\n",
       "      <th>unique</th>\n",
       "      <td>824</td>\n",
       "      <td>2</td>\n",
       "    </tr>\n",
       "    <tr>\n",
       "      <th>top</th>\n",
       "      <td>210.0</td>\n",
       "      <td>1</td>\n",
       "    </tr>\n",
       "    <tr>\n",
       "      <th>freq</th>\n",
       "      <td>1</td>\n",
       "      <td>450</td>\n",
       "    </tr>\n",
       "  </tbody>\n",
       "</table>\n",
       "</div>"
      ],
      "text/plain": [
       "           id  ans\n",
       "count     824  824\n",
       "unique    824    2\n",
       "top     210.0    1\n",
       "freq        1  450"
      ]
     },
     "execution_count": 21,
     "metadata": {},
     "output_type": "execute_result"
    }
   ],
   "source": [
    "ans.describe()"
   ]
  }
 ],
 "metadata": {
  "kernelspec": {
   "display_name": "Python 3",
   "language": "python",
   "name": "python3"
  },
  "language_info": {
   "codemirror_mode": {
    "name": "ipython",
    "version": 3
   },
   "file_extension": ".py",
   "mimetype": "text/x-python",
   "name": "python",
   "nbconvert_exporter": "python",
   "pygments_lexer": "ipython3",
   "version": "3.7.3"
  }
 },
 "nbformat": 4,
 "nbformat_minor": 4
}
