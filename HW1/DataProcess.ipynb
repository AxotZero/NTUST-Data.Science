{
 "cells": [
  {
   "cell_type": "code",
   "execution_count": 4,
   "metadata": {},
   "outputs": [],
   "source": [
    "import numpy as np\n",
    "import pandas as pd\n",
    "import datetime"
   ]
  },
  {
   "cell_type": "code",
   "execution_count": 5,
   "metadata": {},
   "outputs": [],
   "source": [
    "def dataProcess(path):\n",
    "    # function that convert direction to float(1~0)\n",
    "    def dirList2FloatList(dirList):\n",
    "        direction = {'N': 0, 'E': 0.25, 'S': 0.5, 'W':0.75}\n",
    "        floatList = []\n",
    "        for s in dirList:\n",
    "            if type(s) != str:\n",
    "                floatList.append(s)\n",
    "                continue\n",
    "            num = direction[s[0]]\n",
    "            for i in range(1, len(s)):\n",
    "                if(s[i-1] == 'W' and s[i] == 'N'):\n",
    "                    num = (num + 1) / 2\n",
    "                else:\n",
    "                    num = (num + direction[s[i]]) / 2\n",
    "            floatList.append(num)\n",
    "        return floatList\n",
    "    # function that convert Yes,No to 1,0\n",
    "    def YesNo210(s):\n",
    "        if s == 'No':\n",
    "            return 0\n",
    "        return 1\n",
    "    # function that get month in a date\n",
    "    def GetMonth(s):\n",
    "        date = datetime.datetime.strptime(s, \"%Y-%m-%d\")\n",
    "        return date.month\n",
    "    \n",
    "    data = pd.read_csv(path)\n",
    "    data.dropna(inplace = True)\n",
    "    \n",
    "    data['Attribute1'] = data['Attribute1'].apply(GetMonth)\n",
    "    data['Attribute8'] = dirList2FloatList(data['Attribute8'])\n",
    "    data['Attribute10'] = dirList2FloatList(data['Attribute10'])\n",
    "    data['Attribute11'] = dirList2FloatList(data['Attribute11'])\n",
    "    data['Attribute22'] = data['Attribute22'].apply(YesNo210)\n",
    "    if 'Attribute23' in data.columns:\n",
    "        data['Attribute23'] = data['Attribute23'].apply(YesNo210)\n",
    "    \n",
    "    # normalize\n",
    "    data = (data - data.min()) / (data.max() - data.min())\n",
    "    \n",
    "    return data"
   ]
  },
  {
   "cell_type": "code",
   "execution_count": 6,
   "metadata": {},
   "outputs": [
    {
     "name": "stdout",
     "output_type": "stream",
     "text": [
      "(6884, 23)\n",
      "(6448, 23)\n",
      "1045\n"
     ]
    }
   ],
   "source": [
    "trainData = dataProcess('train.csv')\n",
    "\n",
    "# delete outlier\n",
    "for s in trainData.columns:\n",
    "    trainData = trainData[np.abs(trainData[s] - trainData[s].mean()) <= \n",
    "                          (trainData[s].std()*3)]\n",
    "\n",
    "trainData.to_csv('train2.csv', index=None)"
   ]
  },
  {
   "cell_type": "code",
   "execution_count": 9,
   "metadata": {},
   "outputs": [],
   "source": [
    "testData = dataProcess('test.csv')\n",
    "testData.to_csv('test2.csv', index=None)"
   ]
  },
  {
   "cell_type": "code",
   "execution_count": 10,
   "metadata": {},
   "outputs": [],
   "source": [
    "t = pd.read_csv('test2.csv')"
   ]
  },
  {
   "cell_type": "code",
   "execution_count": 5,
   "metadata": {},
   "outputs": [
    {
     "name": "stdout",
     "output_type": "stream",
     "text": [
      "0.7661578054629468\n"
     ]
    }
   ],
   "source": [
    "a0 = t['Attribute22']\n",
    "a1 = t['Attribute23']\n",
    "n = 0\n",
    "for i in range(len(a0)):\n",
    "    if a0[i] == a1[i]:\n",
    "        n = n+1\n",
    "print (n / len(a0))"
   ]
  },
  {
   "cell_type": "code",
   "execution_count": null,
   "metadata": {},
   "outputs": [],
   "source": []
  }
 ],
 "metadata": {
  "kernelspec": {
   "display_name": "Python 3",
   "language": "python",
   "name": "python3"
  },
  "language_info": {
   "codemirror_mode": {
    "name": "ipython",
    "version": 3
   },
   "file_extension": ".py",
   "mimetype": "text/x-python",
   "name": "python",
   "nbconvert_exporter": "python",
   "pygments_lexer": "ipython3",
   "version": "3.7.3"
  }
 },
 "nbformat": 4,
 "nbformat_minor": 4
}
